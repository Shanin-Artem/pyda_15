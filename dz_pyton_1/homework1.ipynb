{
 "cells": [
  {
   "cell_type": "code",
   "execution_count": 7,
   "metadata": {},
   "outputs": [
    {
     "name": "stdout",
     "output_type": "stream",
     "text": [
      "Фраза 1 длиннее фразы 2\n"
     ]
    }
   ],
   "source": [
    "# Задача № 1\n",
    "phrase_1 = 'Насколько проще было бы писать программы, если бы не  заказчики'\n",
    "phrase_2 = '640Кб должно хватить для любых задач. Билл Гейтс (по легенде)'\n",
    "if len(phrase_1) > len(phrase_2):\n",
    "    print ('Фраза 1 длиннее фразы 2')\n",
    "if len(phrase_1) < len(phrase_2):\n",
    "    print ('Фраза 2 длиннее фразы 1')\n",
    "if len(phrase_1) == len(phrase_2):\n",
    "    print ('Фраза 1 равна фразе 2')"
   ]
  },
  {
   "cell_type": "code",
   "execution_count": 8,
   "metadata": {},
   "outputs": [
    {
     "name": "stdout",
     "output_type": "stream",
     "text": [
      " Введите год для проверки102\n",
      "Обычный год\n",
      "Конец программы\n"
     ]
    }
   ],
   "source": [
    "# Задача № 2\n",
    "year = int(input(' Введите год для проверки'))\n",
    "if (year % 4 == 0) and (year % 100 !=0) or (year % 400 == 0): \n",
    "        print(\"Високосный год\")\n",
    "else:\n",
    "        print(\"Обычный год\")\n",
    "\n",
    "print(\"Конец программы\")"
   ]
  },
  {
   "cell_type": "code",
   "execution_count": 9,
   "metadata": {},
   "outputs": [
    {
     "name": "stdout",
     "output_type": "stream",
     "text": [
      "Введите день2\n",
      "Введите месяцмай\n",
      "Ваш знак зодиака телец\n",
      "Конец программы\n"
     ]
    }
   ],
   "source": [
    "# Задача № 3\n",
    "day = int(input(\"Введите день\"))\n",
    "month = input(\"Введите месяц\")\n",
    "if (day >=19 and day <= 31 and month == \"март\") or (day >= 1 and day <= 19 and month == \"апрель\"):\n",
    "    print (\"Ваш знак зодиака овен\")\n",
    "elif (day >=20 and day <= 30 and month == \"апрель\") or (day >= 1 and day <= 20 and month == \"май\"):\n",
    "    print (\"Ваш знак зодиака телец\")\n",
    "elif (day >=21 and day <= 31 and month == \"май\") or (day >= 1 and day <= 20 and month == \"июнь\"):\n",
    "    print (\"Ваш знак зодиака близнецы\")\n",
    "elif (day >=21 and day <= 30 and month == \"июнь\") or (day >= 1 and day <= 22 and month == \"июль\"):\n",
    "    print (\"Ваш знак зодиака рак\")\n",
    "elif (day >=23 and day <= 31 and month == \"июль\") or (day >= 1 and day <= 22 and month == \"август\"):\n",
    "    print (\"Ваш знак зодиака лев\")\n",
    "elif (day >=23 and day <= 31 and month == \"август\") or (day >= 1 and day <= 22 and month == \"сентябрь\"):\n",
    "    print (\"Ваш знак зодиака дева\")\n",
    "elif (day >=23 and day <= 30 and month == \"сентябрь\") or (day >= 1 and day <= 22 and month == \"октябрь\"):\n",
    "    print (\"Ваш знак зодиака весы\")\n",
    "elif (day >=23 and day <= 31 and month == \"октябрь\") or (day >= 1 and day <= 21 and month == \"ноябрь\"):\n",
    "    print (\"Ваш знак зодиака скорпион\")\n",
    "elif (day >=22 and day <= 30 and month == \"ноябрь\") or (day >= 1 and day <= 21 and month == \"декабрь\"):\n",
    "    print (\"Ваш знак зодиака стрелец\")\n",
    "elif (day >=22 and day <= 31 and month == \"декабрь\") or (day >= 1 and day <= 19 and month == \"январь\"):\n",
    "    print (\"Ваш знак зодиака козерог\")\n",
    "elif (day >=20 and day <= 31 and month == \"январь\") or (day >= 1 and day <= 18 and month == \"февраль\"):\n",
    "    print (\"Ваш знак зодиака водолей\")\n",
    "elif (day >=19 and day <= 29 and month == \"февраль\") or (day >= 1 and day <= 20 and month == \"март\"):\n",
    "    print (\"Ваш знак зодиака рыбы\")\n",
    "print (\"Конец программы\")   \n",
    "\n"
   ]
  },
  {
   "cell_type": "code",
   "execution_count": 14,
   "metadata": {},
   "outputs": [
    {
     "name": "stdout",
     "output_type": "stream",
     "text": [
      "Введите ширину в сантиметрах5\n",
      "Введите длину в сантиметрах201\n",
      "Введите высоту в сантиметрах1\n",
      "Упаковка для лыж\n",
      "Конец программы\n"
     ]
    }
   ],
   "source": [
    "# Задача № 4\n",
    "width = int(input(\"Введите ширину в сантиметрах\"))\n",
    "length = int(input(\"Введите длину в сантиметрах\"))\n",
    "height = int(input(\"Введите высоту в сантиметрах\"))\n",
    "if (width < 15 and length < 15 and height < 15):\n",
    "    print (\"Коробка №1\")\n",
    "elif (width > 15 and width < 50) or (length > 15 and length < 50) or (height > 15 and height < 50):\n",
    "    print (\"Коробка №2\")\n",
    "elif (length > 200):\n",
    "    print (\"Упаковка для лыж\")\n",
    "else :\n",
    "    print (\"Стандартная коробка №3\")\n",
    "print (\"Конец программы\")\n",
    "    \n",
    "\n"
   ]
  }
 ],
 "metadata": {
  "kernelspec": {
   "display_name": "Python 3",
   "language": "python",
   "name": "python3"
  },
  "language_info": {
   "codemirror_mode": {
    "name": "ipython",
    "version": 3
   },
   "file_extension": ".py",
   "mimetype": "text/x-python",
   "name": "python",
   "nbconvert_exporter": "python",
   "pygments_lexer": "ipython3",
   "version": "3.8.3"
  }
 },
 "nbformat": 4,
 "nbformat_minor": 4
}
